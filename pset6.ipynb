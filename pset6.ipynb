{
 "cells": [
  {
   "cell_type": "code",
   "execution_count": 1,
   "metadata": {
    "collapsed": false
   },
   "outputs": [
    {
     "name": "stderr",
     "output_type": "stream",
     "text": [
      "/usr/local/lib/python2.7/dist-packages/matplotlib/font_manager.py:273: UserWarning: Matplotlib is building the font cache using fc-list. This may take a moment.\n",
      "  warnings.warn('Matplotlib is building the font cache using fc-list. This may take a moment.')\n"
     ]
    }
   ],
   "source": [
    "from __future__ import division\n",
    "import os\n",
    "import sys\n",
    "\n",
    "from collections import defaultdict\n",
    "\n",
    "import numpy as np\n",
    "import pandas as pd\n",
    "import scipy as sp\n",
    "from scipy import stats\n",
    "\n",
    "import matplotlib as mpl\n",
    "from matplotlib import pyplot as plt\n",
    "%matplotlib inline\n",
    "\n",
    "import gffutils as gfu\n",
    "import pysam\n",
    "from sqlite3 import OperationalError"
   ]
  },
  {
   "cell_type": "markdown",
   "metadata": {},
   "source": [
    "## 1) Get some general info on the yeast transcriptome. "
   ]
  },
  {
   "cell_type": "markdown",
   "metadata": {},
   "source": [
    "#### 1b) Create a database using gffutils (you can install gffutils via pip). Remember to only make a database once!"
   ]
  },
  {
   "cell_type": "code",
   "execution_count": 2,
   "metadata": {
    "collapsed": false
   },
   "outputs": [],
   "source": [
    "# %%time\n",
    "try:\n",
    "    db = gfu.create_db('saccharomyces_cerevisiae.gff', dbfn='sacCer.db')\n",
    "except OperationalError:\n",
    "    pass"
   ]
  },
  {
   "cell_type": "markdown",
   "metadata": {
    "collapsed": true
   },
   "source": [
    "#### 1c) Use gffutils to figure out all the types of feature that are in the gff"
   ]
  },
  {
   "cell_type": "code",
   "execution_count": 3,
   "metadata": {
    "collapsed": false
   },
   "outputs": [],
   "source": [
    "## create_db will return FeatureDB object, but incase this is not the first time, load db\n",
    "db = gfu.FeatureDB(dbfn='sacCer.db')"
   ]
  },
  {
   "cell_type": "code",
   "execution_count": 4,
   "metadata": {
    "collapsed": false
   },
   "outputs": [
    {
     "name": "stdout",
     "output_type": "stream",
     "text": [
      "ARS, ARS_consensus_sequence, CDS, LTR_retrotransposon, W_region, X_element, X_element_combinatorial_repeat, X_region, Y_prime_element, Y_region, Z1_region, Z2_region, blocked_reading_frame, centromere, centromere_DNA_Element_I, centromere_DNA_Element_II, centromere_DNA_Element_III, chromosome, external_transcribed_spacer_region, five_prime_UTR_intron, gene, intein_encoding_region, internal_transcribed_spacer_region, intron, long_terminal_repeat, mRNA, mating_type_region, matrix_attachment_site, ncRNA_gene, non_transcribed_region, noncoding_exon, origin_of_replication, plus_1_translational_frameshift, pseudogene, rRNA_gene, region, silent_mating_type_cassette_array, snRNA_gene, snoRNA_gene, tRNA_gene, telomerase_RNA_gene, telomere, telomeric_repeat, transposable_element_gene\n"
     ]
    }
   ],
   "source": [
    "featureTypes = [x for x in db.featuretypes()]\n",
    "print ', '.join(featureTypes)"
   ]
  },
  {
   "cell_type": "markdown",
   "metadata": {},
   "source": [
    "#### 1d) Use gffutils to figure out which which genes have introns. What fraction of genes have introns? Print a list of gene names for genes that have introns. Protip: note that there is an intron type, and that introns have mRNAs as parents."
   ]
  },
  {
   "cell_type": "code",
   "execution_count": 5,
   "metadata": {
    "collapsed": false
   },
   "outputs": [
    {
     "name": "stdout",
     "output_type": "stream",
     "text": [
      "314 / 6600 genes have introns.\n",
      "\n",
      "YAL030W, YAL003W, YAL001C, YBL111C, YBL091C-A, YBL087C, YBL059C-A, YBL059W, YBL050W, YBL040C, YBL027W, YBL026W, YBL018C, YBR048W, YBR062C, YBR078W, YBR082C, YBR084C-A, YBR090C, YBR111W-A, YBR111W-A, YBR119W, YBR181C, YBR186W, YBR189W, YBR191W, YBR215W, YBR219C, YBR230C, YBR255C-A, YCL012C, YCL005W-A, YCL005W-A, YCL002C, YCR028C-A, YCR031C, YCR097W, YCR097W, YDL219W, YDL191W, YDL136W, YDL130W, YDL125C, YDL115C, YDL108W, YDL083C, YDL082W, YDL079C, YDL075W, YDL064W, YDL029W, YDL012C, YDR005C, YDR025W, YDR059C, YDR064W, YDR092W, YDR129C, YDR139C, YDR305C, YDR318W, YDR367W, YDR381W, YDR381C-A, YDR397C, YDR424C, YDR424C, YDR447C, YDR450W, YDR471W, YDR500C, YDR535C, YEL076C-A, YEL012W, YEL003W, YER003C, YER007C-A, YER014C-A, YER044C-A, YER056C-A, YER074W, YER074W-A, YER074W-A, YER093C-A, YER117W, YER133W, YER179W, YFL039C, YFL034C-B, YFL034C-A, YFL031W, YFR024C-A, YFR031C-A, YFR045W, YGL251C, YGL232W, YGL226C-A, YGL183C, YGL178W, YGL137W, YGL103W, YGL087C, YGL076C, YGL076C, YGL033W, YGL033W, YGL030W, YGR001C, YGR001C, YGR029W, YGR034W, YGR118W, YGR183C, YGR214W, YGR225W, YGR296W, YHL050C, YHL001W, YHR001W-A, YHR010W, YHR012W, YHR016C, YHR021C, YHR039C-A, YHR041C, YHR076W, YHR077C, YHR079C-A, YHR097C, YHR101C, YHR123W, YHR141C, YHR199C-A, YHR203C, YHR218W, YIL177C, YIL156W-B, YIL148W, YIL133C, YIL111W, YIL106W, YIL073C, YIL069C, YIL052C, YIL018W, YIL004C, YJL225C, YJL205C, YJL191W, YJL189W, YJL177W, YJL136C, YJL041W, YJL031C, YJL024C, YJL001W, YJR021C, YJR079W, YJR094W-A, YJR112W-A, YJR145C, YKL190W, YKL180W, YKL157W, YKL156W, YKL081W, YKL006C-A, YKL006W, YKL002W, YKR004C, YKR005C, YKR057W, YKR094C, YKR095W-A, YLL067C, YLL066C, YLL050C, YLR048W, YLR054C, YLR061W, YLR078C, YLR093C, YLR128W, YLR185W, YLR199C, YLR202C, YLR211C, YLR275W, YLR287C-A, YLR306W, YLR316C, YLR316C, YLR329W, YLR344W, YLR367W, YLR406C, YLR426W, YLR445W, YLR448W, YLR464W, YML133C, YML124C, YML094W, YML085C, YML073C, YML067C, YML056C, YML036W, YML034W, YML026C, YML025C, YML024W, YML017W, YMR033W, YMR079W, YMR116C, YMR125W, YMR133W, YMR142C, YMR143W, YMR194W, YMR194C-B, YMR201C, YMR225C, YMR230W, YMR242C, YMR292W, YNL339C, YNL312W, YNL302C, YNL301C, YNL265C, YNL246W, YNL162W, YNL147W, YNL138W-A, YNL130C, YNL112W, YNL096C, YNL069C, YNL050C, YNL044W, YNL038W, YNL012W, YNL004W, YNR053C, YOL127W, YOL121C, YOL120C, YOL048C, YOL047C, YOR096W, YOR122C, YOR182C, YOR234C, YOR293W, YOR312C, YOR318C, YPL283C, YPL249C-A, YPL241C, YPL218W, YPL198W, YPL198W, YPL175W, YPL143W, YPL129W, YPL109C, YPL090C, YPL081W, YPL079W, YPL075W, YPL031C, YPR010C-A, YPR028W, YPR043W, YPR063C, YPR098C, YPR132W, YPR153W, YPR170W-B, YPR187W, YPR202W, Q0055, Q0060, Q0060, Q0065, Q0065, Q0065, Q0070, Q0070, Q0070, Q0070, Q0045, Q0045, Q0045, Q0045, Q0045, Q0045, Q0045, Q0075, Q0110, Q0115, Q0115, Q0120, Q0120, Q0120, Q0105, Q0105, Q0105, Q0105, Q0105, Q0255, Q0255\n"
     ]
    }
   ],
   "source": [
    "allGenes = []\n",
    "genesWithIntrons = []\n",
    "for parentChildren in db.iter_by_parent_childs(featuretype='mRNA'):\n",
    "    geneName = parentChildren[0].attributes['Name'][0].split('_')[0]\n",
    "    allGenes.append(geneName)\n",
    "    for child in parentChildren[1:]:\n",
    "        if child.featuretype == 'intron':\n",
    "            genesWithIntrons.append(geneName)\n",
    "\n",
    "print '{} / {} genes have introns.'.format(len(genesWithIntrons), len(allGenes))\n",
    "print\n",
    "print ', '.join(genesWithIntrons)"
   ]
  },
  {
   "cell_type": "markdown",
   "metadata": {},
   "source": [
    "#### 1e) Compute the length of every gene in the yeast genome, and output a file where the first column is gene name, and the second column is length. Warning: you have to be careful for the genes with introns! You only want the sum of the CDS lengths, and you don’t want to count the intron lengths."
   ]
  },
  {
   "cell_type": "code",
   "execution_count": 51,
   "metadata": {
    "collapsed": false
   },
   "outputs": [],
   "source": [
    "geneLengths = defaultdict(int)\n",
    "for parentChildren in db.iter_by_parent_childs(featuretype='mRNA'):\n",
    "    geneName = parentChildren[0].attributes['Name'][0].split('_')[0]\n",
    "    for child in parentChildren[1:]:\n",
    "        if child.featuretype == 'CDS':\n",
    "            geneLengths[geneName] += (child.end - child.start)+1\n",
    "\n",
    "with open('sacCer_geneLength.txt', 'w') as fh:\n",
    "    for (g,l) in geneLengths.items():\n",
    "        fh.write('{}\\t{}\\n'.format(g,l))"
   ]
  },
  {
   "cell_type": "markdown",
   "metadata": {},
   "source": [
    "## 2) Map a yeast RNAseq experiment."
   ]
  },
  {
   "cell_type": "raw",
   "metadata": {},
   "source": [
    "250000 reads; of these:\n",
    "  250000 (100.00%) were unpaired; of these:\n",
    "    227129 (90.85%) aligned 0 times\n",
    "    7789 (3.12%) aligned exactly 1 time\n",
    "    15082 (6.03%) aligned >1 times\n",
    "9.15% overall alignment rate"
   ]
  },
  {
   "cell_type": "markdown",
   "metadata": {},
   "source": [
    "## 3) Quantify expression using gffutils and pysam"
   ]
  },
  {
   "cell_type": "markdown",
   "metadata": {},
   "source": [
    "#### 3b) Quantify expression for each gene using pysam. You could use the pileup() method of an AlignmentFile, like you did when building the SNP caller. Alternatively, you could try to figure out the .count_coverage() method of an AlignmentFile which could make it easier. There is documentation of count_coverage() on the readthedocs."
   ]
  },
  {
   "cell_type": "code",
   "execution_count": 7,
   "metadata": {
    "collapsed": true
   },
   "outputs": [],
   "source": [
    "srrBam = pysam.AlignmentFile('SRR/SRR1177156.sorted.bam')"
   ]
  },
  {
   "cell_type": "code",
   "execution_count": 8,
   "metadata": {
    "collapsed": false
   },
   "outputs": [],
   "source": [
    "geneExpression = {}\n",
    "for gene in db.features_of_type('mRNA'):\n",
    "    geneName = gene.attributes['Name'][0].split('_')[0]\n",
    "#     geneExpression[geneName] = srrBam.count_coverage(reference=gene.seqid, start=gene.start, end=gene.end)\n",
    "    try:\n",
    "        pileup = srrBam.pileup(reference=gene.seqid, start=gene.start, end=gene.end)\n",
    "    except ValueError:\n",
    "        continue\n",
    "    geneExpression[geneName] = len([x for x in pileup])"
   ]
  },
  {
   "cell_type": "code",
   "execution_count": 9,
   "metadata": {
    "collapsed": false
   },
   "outputs": [
    {
     "data": {
      "text/plain": [
       "[('YAL008W', 0),\n",
       " ('YBR255W', 0),\n",
       " ('YGR164W', 50),\n",
       " ('YGR131W', 0),\n",
       " ('YNL003C', 0),\n",
       " ('YBR135W', 46),\n",
       " ('YBR160W', 0),\n",
       " ('YJL082W', 97),\n",
       " ('YJL142C', 0),\n",
       " ('YPL191C', 44)]"
      ]
     },
     "execution_count": 9,
     "metadata": {},
     "output_type": "execute_result"
    }
   ],
   "source": [
    "## Preview\n",
    "geneExpression.items()[:10]"
   ]
  },
  {
   "cell_type": "markdown",
   "metadata": {},
   "source": [
    "#### 3c) Output the FPKM for each gene into a file where one column is a gene name, and the other column is the FPKM. Note that outputting FPKM means that you need to divide the counts of each gene by its length, and normalize by the total number of reads that map to genes (so that means you should keep a counter of how many reads mapped to any genes as you iterate over gene in step b). "
   ]
  },
  {
   "cell_type": "code",
   "execution_count": 57,
   "metadata": {
    "collapsed": false
   },
   "outputs": [],
   "source": [
    "totalReadsMappedinMillions = sum(geneExpression.values()) / 1e6\n",
    "srrFPKM = {}\n",
    "for gene,count in geneExpression.items():\n",
    "    srrFPKM[gene] = (count / ((geneLengths[gene]/1000) * totalReadsMappedinMillions)) * 1e9"
   ]
  },
  {
   "cell_type": "markdown",
   "metadata": {},
   "source": [
    "## 4) Find differential expression expression between two yeast strains."
   ]
  },
  {
   "cell_type": "markdown",
   "metadata": {},
   "source": [
    "#### 4c) Using gffutils and pysam, test for differential expression of every gene in the genome"
   ]
  },
  {
   "cell_type": "markdown",
   "metadata": {
    "collapsed": true
   },
   "source": [
    "##### RM strain"
   ]
  },
  {
   "cell_type": "code",
   "execution_count": 11,
   "metadata": {
    "collapsed": false
   },
   "outputs": [],
   "source": [
    "rmBam = pysam.AlignmentFile('RM/RM.sorted.bam')"
   ]
  },
  {
   "cell_type": "code",
   "execution_count": 12,
   "metadata": {
    "collapsed": true
   },
   "outputs": [],
   "source": [
    "rmExpression = {}\n",
    "for gene in db.features_of_type('mRNA'):\n",
    "    geneName = gene.attributes['Name'][0].split('_')[0]\n",
    "    try:\n",
    "        pileup = rmBam.pileup(reference=gene.seqid, start=gene.start, end=gene.end)\n",
    "    except ValueError:\n",
    "        continue\n",
    "    rmExpression[geneName] = len([x for x in pileup])"
   ]
  },
  {
   "cell_type": "code",
   "execution_count": 14,
   "metadata": {
    "collapsed": false
   },
   "outputs": [],
   "source": [
    "rmDataFrame = pd.DataFrame(rmExpression.items(), columns=['gene_name','rm_count'])"
   ]
  },
  {
   "cell_type": "code",
   "execution_count": 15,
   "metadata": {
    "collapsed": false
   },
   "outputs": [
    {
     "data": {
      "text/html": [
       "<div>\n",
       "<table border=\"1\" class=\"dataframe\">\n",
       "  <thead>\n",
       "    <tr style=\"text-align: right;\">\n",
       "      <th></th>\n",
       "      <th>gene_name</th>\n",
       "      <th>rm_count</th>\n",
       "    </tr>\n",
       "  </thead>\n",
       "  <tbody>\n",
       "    <tr>\n",
       "      <th>0</th>\n",
       "      <td>YAL008W</td>\n",
       "      <td>100</td>\n",
       "    </tr>\n",
       "    <tr>\n",
       "      <th>1</th>\n",
       "      <td>YBR255W</td>\n",
       "      <td>50</td>\n",
       "    </tr>\n",
       "    <tr>\n",
       "      <th>2</th>\n",
       "      <td>YGR164W</td>\n",
       "      <td>68</td>\n",
       "    </tr>\n",
       "    <tr>\n",
       "      <th>3</th>\n",
       "      <td>YGR131W</td>\n",
       "      <td>99</td>\n",
       "    </tr>\n",
       "    <tr>\n",
       "      <th>4</th>\n",
       "      <td>YNL003C</td>\n",
       "      <td>190</td>\n",
       "    </tr>\n",
       "  </tbody>\n",
       "</table>\n",
       "</div>"
      ],
      "text/plain": [
       "  gene_name  rm_count\n",
       "0   YAL008W       100\n",
       "1   YBR255W        50\n",
       "2   YGR164W        68\n",
       "3   YGR131W        99\n",
       "4   YNL003C       190"
      ]
     },
     "execution_count": 15,
     "metadata": {},
     "output_type": "execute_result"
    }
   ],
   "source": [
    "rmDataFrame.head()"
   ]
  },
  {
   "cell_type": "markdown",
   "metadata": {},
   "source": [
    "##### BY strain"
   ]
  },
  {
   "cell_type": "code",
   "execution_count": 16,
   "metadata": {
    "collapsed": true
   },
   "outputs": [],
   "source": [
    "byBam = pysam.AlignmentFile('BY/BY.sorted.bam')"
   ]
  },
  {
   "cell_type": "code",
   "execution_count": 17,
   "metadata": {
    "collapsed": true
   },
   "outputs": [],
   "source": [
    "byExpression = {}\n",
    "for gene in db.features_of_type('mRNA'):\n",
    "    geneName = gene.attributes['Name'][0].split('_')[0]\n",
    "    try:\n",
    "        pileup = byBam.pileup(reference=gene.seqid, start=gene.start, end=gene.end)\n",
    "    except ValueError:\n",
    "        continue\n",
    "    byExpression[geneName] = len([x for x in pileup])"
   ]
  },
  {
   "cell_type": "code",
   "execution_count": 18,
   "metadata": {
    "collapsed": true
   },
   "outputs": [],
   "source": [
    "byDataFrame = pd.DataFrame(byExpression.items(), columns=['gene_name','by_count'])"
   ]
  },
  {
   "cell_type": "code",
   "execution_count": 19,
   "metadata": {
    "collapsed": false
   },
   "outputs": [
    {
     "data": {
      "text/html": [
       "<div>\n",
       "<table border=\"1\" class=\"dataframe\">\n",
       "  <thead>\n",
       "    <tr style=\"text-align: right;\">\n",
       "      <th></th>\n",
       "      <th>gene_name</th>\n",
       "      <th>by_count</th>\n",
       "    </tr>\n",
       "  </thead>\n",
       "  <tbody>\n",
       "    <tr>\n",
       "      <th>0</th>\n",
       "      <td>YAL008W</td>\n",
       "      <td>49</td>\n",
       "    </tr>\n",
       "    <tr>\n",
       "      <th>1</th>\n",
       "      <td>YBR255W</td>\n",
       "      <td>0</td>\n",
       "    </tr>\n",
       "    <tr>\n",
       "      <th>2</th>\n",
       "      <td>YGR164W</td>\n",
       "      <td>50</td>\n",
       "    </tr>\n",
       "    <tr>\n",
       "      <th>3</th>\n",
       "      <td>YGR131W</td>\n",
       "      <td>0</td>\n",
       "    </tr>\n",
       "    <tr>\n",
       "      <th>4</th>\n",
       "      <td>YNL003C</td>\n",
       "      <td>50</td>\n",
       "    </tr>\n",
       "  </tbody>\n",
       "</table>\n",
       "</div>"
      ],
      "text/plain": [
       "  gene_name  by_count\n",
       "0   YAL008W        49\n",
       "1   YBR255W         0\n",
       "2   YGR164W        50\n",
       "3   YGR131W         0\n",
       "4   YNL003C        50"
      ]
     },
     "execution_count": 19,
     "metadata": {},
     "output_type": "execute_result"
    }
   ],
   "source": [
    "byDataFrame.head()"
   ]
  },
  {
   "cell_type": "markdown",
   "metadata": {},
   "source": [
    "#### Merge with gene lengths"
   ]
  },
  {
   "cell_type": "code",
   "execution_count": 53,
   "metadata": {
    "collapsed": true
   },
   "outputs": [],
   "source": [
    "geneLengthsDataFrame = pd.DataFrame(geneLengths.items(), columns=['gene_name','gene_length'])"
   ]
  },
  {
   "cell_type": "code",
   "execution_count": 54,
   "metadata": {
    "collapsed": false
   },
   "outputs": [],
   "source": [
    "combined = geneLengthsDataFrame.merge(rmDataFrame, on='gene_name', how='outer').merge(byDataFrame, on='gene_name', how='outer')"
   ]
  },
  {
   "cell_type": "code",
   "execution_count": 55,
   "metadata": {
    "collapsed": false
   },
   "outputs": [
    {
     "data": {
      "text/html": [
       "<div>\n",
       "<table border=\"1\" class=\"dataframe\">\n",
       "  <thead>\n",
       "    <tr style=\"text-align: right;\">\n",
       "      <th></th>\n",
       "      <th>gene_name</th>\n",
       "      <th>gene_length</th>\n",
       "      <th>rm_count</th>\n",
       "      <th>by_count</th>\n",
       "    </tr>\n",
       "  </thead>\n",
       "  <tbody>\n",
       "    <tr>\n",
       "      <th>0</th>\n",
       "      <td>YAL008W</td>\n",
       "      <td>597</td>\n",
       "      <td>100.0</td>\n",
       "      <td>49.0</td>\n",
       "    </tr>\n",
       "    <tr>\n",
       "      <th>1</th>\n",
       "      <td>YBR255W</td>\n",
       "      <td>2085</td>\n",
       "      <td>50.0</td>\n",
       "      <td>0.0</td>\n",
       "    </tr>\n",
       "    <tr>\n",
       "      <th>2</th>\n",
       "      <td>YGR164W</td>\n",
       "      <td>336</td>\n",
       "      <td>68.0</td>\n",
       "      <td>50.0</td>\n",
       "    </tr>\n",
       "    <tr>\n",
       "      <th>3</th>\n",
       "      <td>YGR131W</td>\n",
       "      <td>525</td>\n",
       "      <td>99.0</td>\n",
       "      <td>0.0</td>\n",
       "    </tr>\n",
       "    <tr>\n",
       "      <th>4</th>\n",
       "      <td>YNL003C</td>\n",
       "      <td>855</td>\n",
       "      <td>190.0</td>\n",
       "      <td>50.0</td>\n",
       "    </tr>\n",
       "  </tbody>\n",
       "</table>\n",
       "</div>"
      ],
      "text/plain": [
       "  gene_name  gene_length  rm_count  by_count\n",
       "0   YAL008W          597     100.0      49.0\n",
       "1   YBR255W         2085      50.0       0.0\n",
       "2   YGR164W          336      68.0      50.0\n",
       "3   YGR131W          525      99.0       0.0\n",
       "4   YNL003C          855     190.0      50.0"
      ]
     },
     "execution_count": 55,
     "metadata": {},
     "output_type": "execute_result"
    }
   ],
   "source": [
    "combined.head()"
   ]
  },
  {
   "cell_type": "code",
   "execution_count": 56,
   "metadata": {
    "collapsed": false
   },
   "outputs": [
    {
     "data": {
      "text/html": [
       "<div>\n",
       "<table border=\"1\" class=\"dataframe\">\n",
       "  <thead>\n",
       "    <tr style=\"text-align: right;\">\n",
       "      <th></th>\n",
       "      <th>gene_name</th>\n",
       "      <th>gene_length</th>\n",
       "      <th>rm_count</th>\n",
       "      <th>by_count</th>\n",
       "    </tr>\n",
       "  </thead>\n",
       "  <tbody>\n",
       "    <tr>\n",
       "      <th>204</th>\n",
       "      <td>Q0092</td>\n",
       "      <td>141</td>\n",
       "      <td>NaN</td>\n",
       "      <td>NaN</td>\n",
       "    </tr>\n",
       "    <tr>\n",
       "      <th>688</th>\n",
       "      <td>Q0075</td>\n",
       "      <td>1065</td>\n",
       "      <td>NaN</td>\n",
       "      <td>NaN</td>\n",
       "    </tr>\n",
       "    <tr>\n",
       "      <th>771</th>\n",
       "      <td>Q0297</td>\n",
       "      <td>156</td>\n",
       "      <td>NaN</td>\n",
       "      <td>NaN</td>\n",
       "    </tr>\n",
       "    <tr>\n",
       "      <th>1019</th>\n",
       "      <td>Q0130</td>\n",
       "      <td>231</td>\n",
       "      <td>NaN</td>\n",
       "      <td>NaN</td>\n",
       "    </tr>\n",
       "    <tr>\n",
       "      <th>1856</th>\n",
       "      <td>Q0032</td>\n",
       "      <td>291</td>\n",
       "      <td>NaN</td>\n",
       "      <td>NaN</td>\n",
       "    </tr>\n",
       "    <tr>\n",
       "      <th>2086</th>\n",
       "      <td>Q0010</td>\n",
       "      <td>387</td>\n",
       "      <td>NaN</td>\n",
       "      <td>NaN</td>\n",
       "    </tr>\n",
       "    <tr>\n",
       "      <th>2087</th>\n",
       "      <td>Q0017</td>\n",
       "      <td>162</td>\n",
       "      <td>NaN</td>\n",
       "      <td>NaN</td>\n",
       "    </tr>\n",
       "    <tr>\n",
       "      <th>2092</th>\n",
       "      <td>Q0275</td>\n",
       "      <td>810</td>\n",
       "      <td>NaN</td>\n",
       "      <td>NaN</td>\n",
       "    </tr>\n",
       "    <tr>\n",
       "      <th>2301</th>\n",
       "      <td>Q0070</td>\n",
       "      <td>1893</td>\n",
       "      <td>NaN</td>\n",
       "      <td>NaN</td>\n",
       "    </tr>\n",
       "    <tr>\n",
       "      <th>2536</th>\n",
       "      <td>Q0055</td>\n",
       "      <td>2565</td>\n",
       "      <td>NaN</td>\n",
       "      <td>NaN</td>\n",
       "    </tr>\n",
       "    <tr>\n",
       "      <th>2537</th>\n",
       "      <td>Q0050</td>\n",
       "      <td>2505</td>\n",
       "      <td>NaN</td>\n",
       "      <td>NaN</td>\n",
       "    </tr>\n",
       "    <tr>\n",
       "      <th>3976</th>\n",
       "      <td>Q0105</td>\n",
       "      <td>1158</td>\n",
       "      <td>NaN</td>\n",
       "      <td>NaN</td>\n",
       "    </tr>\n",
       "    <tr>\n",
       "      <th>3986</th>\n",
       "      <td>Q0060</td>\n",
       "      <td>1248</td>\n",
       "      <td>NaN</td>\n",
       "      <td>NaN</td>\n",
       "    </tr>\n",
       "    <tr>\n",
       "      <th>4225</th>\n",
       "      <td>Q0120</td>\n",
       "      <td>1917</td>\n",
       "      <td>NaN</td>\n",
       "      <td>NaN</td>\n",
       "    </tr>\n",
       "    <tr>\n",
       "      <th>4448</th>\n",
       "      <td>Q0140</td>\n",
       "      <td>1197</td>\n",
       "      <td>NaN</td>\n",
       "      <td>NaN</td>\n",
       "    </tr>\n",
       "    <tr>\n",
       "      <th>4449</th>\n",
       "      <td>Q0143</td>\n",
       "      <td>153</td>\n",
       "      <td>NaN</td>\n",
       "      <td>NaN</td>\n",
       "    </tr>\n",
       "    <tr>\n",
       "      <th>4450</th>\n",
       "      <td>Q0142</td>\n",
       "      <td>177</td>\n",
       "      <td>NaN</td>\n",
       "      <td>NaN</td>\n",
       "    </tr>\n",
       "    <tr>\n",
       "      <th>4452</th>\n",
       "      <td>Q0144</td>\n",
       "      <td>330</td>\n",
       "      <td>NaN</td>\n",
       "      <td>NaN</td>\n",
       "    </tr>\n",
       "    <tr>\n",
       "      <th>4571</th>\n",
       "      <td>Q0085</td>\n",
       "      <td>780</td>\n",
       "      <td>NaN</td>\n",
       "      <td>NaN</td>\n",
       "    </tr>\n",
       "    <tr>\n",
       "      <th>4573</th>\n",
       "      <td>Q0080</td>\n",
       "      <td>147</td>\n",
       "      <td>NaN</td>\n",
       "      <td>NaN</td>\n",
       "    </tr>\n",
       "    <tr>\n",
       "      <th>4625</th>\n",
       "      <td>Q0250</td>\n",
       "      <td>756</td>\n",
       "      <td>NaN</td>\n",
       "      <td>NaN</td>\n",
       "    </tr>\n",
       "    <tr>\n",
       "      <th>4628</th>\n",
       "      <td>Q0255</td>\n",
       "      <td>1419</td>\n",
       "      <td>NaN</td>\n",
       "      <td>NaN</td>\n",
       "    </tr>\n",
       "    <tr>\n",
       "      <th>4701</th>\n",
       "      <td>Q0160</td>\n",
       "      <td>708</td>\n",
       "      <td>NaN</td>\n",
       "      <td>NaN</td>\n",
       "    </tr>\n",
       "    <tr>\n",
       "      <th>4818</th>\n",
       "      <td>Q0115</td>\n",
       "      <td>1554</td>\n",
       "      <td>NaN</td>\n",
       "      <td>NaN</td>\n",
       "    </tr>\n",
       "    <tr>\n",
       "      <th>4823</th>\n",
       "      <td>Q0110</td>\n",
       "      <td>1272</td>\n",
       "      <td>NaN</td>\n",
       "      <td>NaN</td>\n",
       "    </tr>\n",
       "    <tr>\n",
       "      <th>5033</th>\n",
       "      <td>Q0182</td>\n",
       "      <td>405</td>\n",
       "      <td>NaN</td>\n",
       "      <td>NaN</td>\n",
       "    </tr>\n",
       "    <tr>\n",
       "      <th>5746</th>\n",
       "      <td>Q0065</td>\n",
       "      <td>1671</td>\n",
       "      <td>NaN</td>\n",
       "      <td>NaN</td>\n",
       "    </tr>\n",
       "    <tr>\n",
       "      <th>5967</th>\n",
       "      <td>Q0045</td>\n",
       "      <td>1605</td>\n",
       "      <td>NaN</td>\n",
       "      <td>NaN</td>\n",
       "    </tr>\n",
       "  </tbody>\n",
       "</table>\n",
       "</div>"
      ],
      "text/plain": [
       "     gene_name  gene_length  rm_count  by_count\n",
       "204      Q0092          141       NaN       NaN\n",
       "688      Q0075         1065       NaN       NaN\n",
       "771      Q0297          156       NaN       NaN\n",
       "1019     Q0130          231       NaN       NaN\n",
       "1856     Q0032          291       NaN       NaN\n",
       "2086     Q0010          387       NaN       NaN\n",
       "2087     Q0017          162       NaN       NaN\n",
       "2092     Q0275          810       NaN       NaN\n",
       "2301     Q0070         1893       NaN       NaN\n",
       "2536     Q0055         2565       NaN       NaN\n",
       "2537     Q0050         2505       NaN       NaN\n",
       "3976     Q0105         1158       NaN       NaN\n",
       "3986     Q0060         1248       NaN       NaN\n",
       "4225     Q0120         1917       NaN       NaN\n",
       "4448     Q0140         1197       NaN       NaN\n",
       "4449     Q0143          153       NaN       NaN\n",
       "4450     Q0142          177       NaN       NaN\n",
       "4452     Q0144          330       NaN       NaN\n",
       "4571     Q0085          780       NaN       NaN\n",
       "4573     Q0080          147       NaN       NaN\n",
       "4625     Q0250          756       NaN       NaN\n",
       "4628     Q0255         1419       NaN       NaN\n",
       "4701     Q0160          708       NaN       NaN\n",
       "4818     Q0115         1554       NaN       NaN\n",
       "4823     Q0110         1272       NaN       NaN\n",
       "5033     Q0182          405       NaN       NaN\n",
       "5746     Q0065         1671       NaN       NaN\n",
       "5967     Q0045         1605       NaN       NaN"
      ]
     },
     "execution_count": 56,
     "metadata": {},
     "output_type": "execute_result"
    }
   ],
   "source": [
    "combined[pd.isnull(combined['rm_count']) | pd.isnull(combined['by_count'])] ## These must be MT genes, which pileup had issues with"
   ]
  },
  {
   "cell_type": "code",
   "execution_count": 28,
   "metadata": {
    "collapsed": true
   },
   "outputs": [],
   "source": [
    "combined.to_csv('../pset7/yeast_results.txt', sep='\\t', index=False)"
   ]
  },
  {
   "cell_type": "markdown",
   "metadata": {},
   "source": [
    "#### Calculate FPKM"
   ]
  },
  {
   "cell_type": "code",
   "execution_count": 29,
   "metadata": {
    "collapsed": true
   },
   "outputs": [],
   "source": [
    "filtered = combined[pd.notnull(combined['rm_count']) & pd.notnull(combined['by_count'])]"
   ]
  },
  {
   "cell_type": "code",
   "execution_count": 32,
   "metadata": {
    "collapsed": false
   },
   "outputs": [
    {
     "data": {
      "text/html": [
       "<div>\n",
       "<table border=\"1\" class=\"dataframe\">\n",
       "  <thead>\n",
       "    <tr style=\"text-align: right;\">\n",
       "      <th></th>\n",
       "      <th>gene_name</th>\n",
       "      <th>gene_length</th>\n",
       "      <th>rm_count</th>\n",
       "      <th>by_count</th>\n",
       "    </tr>\n",
       "  </thead>\n",
       "  <tbody>\n",
       "    <tr>\n",
       "      <th>0</th>\n",
       "      <td>YAL008W</td>\n",
       "      <td>597</td>\n",
       "      <td>100.0</td>\n",
       "      <td>49.0</td>\n",
       "    </tr>\n",
       "    <tr>\n",
       "      <th>1</th>\n",
       "      <td>YBR255W</td>\n",
       "      <td>2085</td>\n",
       "      <td>50.0</td>\n",
       "      <td>0.0</td>\n",
       "    </tr>\n",
       "    <tr>\n",
       "      <th>2</th>\n",
       "      <td>YGR164W</td>\n",
       "      <td>336</td>\n",
       "      <td>68.0</td>\n",
       "      <td>50.0</td>\n",
       "    </tr>\n",
       "    <tr>\n",
       "      <th>3</th>\n",
       "      <td>YGR131W</td>\n",
       "      <td>525</td>\n",
       "      <td>99.0</td>\n",
       "      <td>0.0</td>\n",
       "    </tr>\n",
       "    <tr>\n",
       "      <th>4</th>\n",
       "      <td>YNL003C</td>\n",
       "      <td>855</td>\n",
       "      <td>190.0</td>\n",
       "      <td>50.0</td>\n",
       "    </tr>\n",
       "  </tbody>\n",
       "</table>\n",
       "</div>"
      ],
      "text/plain": [
       "  gene_name  gene_length  rm_count  by_count\n",
       "0   YAL008W          597     100.0      49.0\n",
       "1   YBR255W         2085      50.0       0.0\n",
       "2   YGR164W          336      68.0      50.0\n",
       "3   YGR131W          525      99.0       0.0\n",
       "4   YNL003C          855     190.0      50.0"
      ]
     },
     "execution_count": 32,
     "metadata": {},
     "output_type": "execute_result"
    }
   ],
   "source": [
    "filtered.head()"
   ]
  },
  {
   "cell_type": "code",
   "execution_count": null,
   "metadata": {
    "collapsed": true
   },
   "outputs": [],
   "source": [
    "totalReadsMappedinMillions = sum(geneExpression.values()) / 1e6\n",
    "srrFPKM = {}\n",
    "for gene,count in geneExpression.items():\n",
    "    srrFPKM[gene] = (count / ((geneLengths[gene]/1000) * totalReadsMappedinMillions)) * 1e9"
   ]
  },
  {
   "cell_type": "code",
   "execution_count": 67,
   "metadata": {
    "collapsed": true
   },
   "outputs": [],
   "source": [
    "filtered['rm_fpkm'] = (filtered['rm_count'] / ((filtered['gene_length']/1000) * (filtered['rm_count'].sum() / 1e6))) * 1e9\n",
    "filtered['by_fpkm'] = (filtered['by_count'] / ((filtered['gene_length']/1000) * (filtered['by_count'].sum() / 1e6))) * 1e9"
   ]
  },
  {
   "cell_type": "code",
   "execution_count": 68,
   "metadata": {
    "collapsed": false
   },
   "outputs": [
    {
     "data": {
      "text/html": [
       "<div>\n",
       "<table border=\"1\" class=\"dataframe\">\n",
       "  <thead>\n",
       "    <tr style=\"text-align: right;\">\n",
       "      <th></th>\n",
       "      <th>gene_name</th>\n",
       "      <th>gene_length</th>\n",
       "      <th>rm_count</th>\n",
       "      <th>by_count</th>\n",
       "      <th>rm_fpkm</th>\n",
       "      <th>by_fpkm</th>\n",
       "    </tr>\n",
       "  </thead>\n",
       "  <tbody>\n",
       "    <tr>\n",
       "      <th>0</th>\n",
       "      <td>YAL008W</td>\n",
       "      <td>597</td>\n",
       "      <td>100.0</td>\n",
       "      <td>49.0</td>\n",
       "      <td>1.229970e+11</td>\n",
       "      <td>7.671821e+10</td>\n",
       "    </tr>\n",
       "    <tr>\n",
       "      <th>1</th>\n",
       "      <td>YBR255W</td>\n",
       "      <td>2085</td>\n",
       "      <td>50.0</td>\n",
       "      <td>0.0</td>\n",
       "      <td>1.760892e+10</td>\n",
       "      <td>0.000000e+00</td>\n",
       "    </tr>\n",
       "    <tr>\n",
       "      <th>2</th>\n",
       "      <td>YGR164W</td>\n",
       "      <td>336</td>\n",
       "      <td>68.0</td>\n",
       "      <td>50.0</td>\n",
       "      <td>1.486067e+11</td>\n",
       "      <td>1.390937e+11</td>\n",
       "    </tr>\n",
       "    <tr>\n",
       "      <th>3</th>\n",
       "      <td>YGR131W</td>\n",
       "      <td>525</td>\n",
       "      <td>99.0</td>\n",
       "      <td>0.0</td>\n",
       "      <td>1.384665e+11</td>\n",
       "      <td>0.000000e+00</td>\n",
       "    </tr>\n",
       "    <tr>\n",
       "      <th>4</th>\n",
       "      <td>YNL003C</td>\n",
       "      <td>855</td>\n",
       "      <td>190.0</td>\n",
       "      <td>50.0</td>\n",
       "      <td>1.631760e+11</td>\n",
       "      <td>5.466138e+10</td>\n",
       "    </tr>\n",
       "  </tbody>\n",
       "</table>\n",
       "</div>"
      ],
      "text/plain": [
       "  gene_name  gene_length  rm_count  by_count       rm_fpkm       by_fpkm\n",
       "0   YAL008W          597     100.0      49.0  1.229970e+11  7.671821e+10\n",
       "1   YBR255W         2085      50.0       0.0  1.760892e+10  0.000000e+00\n",
       "2   YGR164W          336      68.0      50.0  1.486067e+11  1.390937e+11\n",
       "3   YGR131W          525      99.0       0.0  1.384665e+11  0.000000e+00\n",
       "4   YNL003C          855     190.0      50.0  1.631760e+11  5.466138e+10"
      ]
     },
     "execution_count": 68,
     "metadata": {},
     "output_type": "execute_result"
    }
   ],
   "source": [
    "filtered.head()"
   ]
  }
 ],
 "metadata": {
  "kernelspec": {
   "display_name": "Python 2",
   "language": "python",
   "name": "python2"
  },
  "language_info": {
   "codemirror_mode": {
    "name": "ipython",
    "version": 2
   },
   "file_extension": ".py",
   "mimetype": "text/x-python",
   "name": "python",
   "nbconvert_exporter": "python",
   "pygments_lexer": "ipython2",
   "version": "2.7.6"
  },
  "widgets": {
   "state": {},
   "version": "1.1.2"
  }
 },
 "nbformat": 4,
 "nbformat_minor": 0
}
