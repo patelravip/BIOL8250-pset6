{
 "cells": [
  {
   "cell_type": "code",
   "execution_count": 34,
   "metadata": {
    "collapsed": false
   },
   "outputs": [],
   "source": [
    "from __future__ import division\n",
    "import os\n",
    "import sys\n",
    "\n",
    "from collections import defaultdict\n",
    "\n",
    "import numpy as np\n",
    "import pandas as pd\n",
    "import scipy as sp\n",
    "from scipy import stats\n",
    "\n",
    "import matplotlib as mpl\n",
    "from matplotlib import pyplot as plt\n",
    "%matplotlib inline\n",
    "\n",
    "import gffutils as gfu"
   ]
  },
  {
   "cell_type": "markdown",
   "metadata": {},
   "source": [
    "## 1) Get some general info on the yeast transcriptome. "
   ]
  },
  {
   "cell_type": "markdown",
   "metadata": {},
   "source": [
    "#### 1b) Create a database using gffutils (you can install gffutils via pip). Remember to only make a database once!"
   ]
  },
  {
   "cell_type": "code",
   "execution_count": 2,
   "metadata": {
    "collapsed": false
   },
   "outputs": [
    {
     "name": "stdout",
     "output_type": "stream",
     "text": [
      "CPU times: user 1.93 s, sys: 8.69 ms, total: 1.94 s\n",
      "Wall time: 2.67 s\n"
     ]
    }
   ],
   "source": [
    "%%time\n",
    "db = gfu.create_db('saccharomyces_cerevisiae.gff', dbfn='sacCer.db')"
   ]
  },
  {
   "cell_type": "markdown",
   "metadata": {
    "collapsed": true
   },
   "source": [
    "#### 1c) Use gffutils to figure out all the types of feature that are in the gff"
   ]
  },
  {
   "cell_type": "code",
   "execution_count": 4,
   "metadata": {
    "collapsed": false
   },
   "outputs": [],
   "source": [
    "## create_db will return FeatureDB object, but incase this is not the first time, load db\n",
    "db = gfu.FeatureDB(dbfn='sacCer.db')"
   ]
  },
  {
   "cell_type": "code",
   "execution_count": 6,
   "metadata": {
    "collapsed": false
   },
   "outputs": [
    {
     "name": "stdout",
     "output_type": "stream",
     "text": [
      "ARS, ARS_consensus_sequence, CDS, LTR_retrotransposon, W_region, X_element, X_element_combinatorial_repeat, X_region, Y_prime_element, Y_region, Z1_region, Z2_region, blocked_reading_frame, centromere, centromere_DNA_Element_I, centromere_DNA_Element_II, centromere_DNA_Element_III, chromosome, external_transcribed_spacer_region, five_prime_UTR_intron, gene, intein_encoding_region, internal_transcribed_spacer_region, intron, long_terminal_repeat, mRNA, mating_type_region, matrix_attachment_site, ncRNA_gene, non_transcribed_region, noncoding_exon, origin_of_replication, plus_1_translational_frameshift, pseudogene, rRNA_gene, region, silent_mating_type_cassette_array, snRNA_gene, snoRNA_gene, tRNA_gene, telomerase_RNA_gene, telomere, telomeric_repeat, transposable_element_gene\n"
     ]
    }
   ],
   "source": [
    "featureTypes = [x for x in db.featuretypes()]\n",
    "print ', '.join(featureTypes)"
   ]
  },
  {
   "cell_type": "markdown",
   "metadata": {},
   "source": [
    "#### 1d) Use gffutils to figure out which which genes have introns. What fraction of genes have introns? Print a list of gene names for genes that have introns. Protip: note that there is an intron type, and that introns have mRNAs as parents."
   ]
  },
  {
   "cell_type": "code",
   "execution_count": 33,
   "metadata": {
    "collapsed": false
   },
   "outputs": [
    {
     "name": "stdout",
     "output_type": "stream",
     "text": [
      "314 / 6600 genes have introns.\n",
      "\n",
      "YAL030W, YAL003W, YAL001C, YBL111C, YBL091C-A, YBL087C, YBL059C-A, YBL059W, YBL050W, YBL040C, YBL027W, YBL026W, YBL018C, YBR048W, YBR062C, YBR078W, YBR082C, YBR084C-A, YBR090C, YBR111W-A, YBR111W-A, YBR119W, YBR181C, YBR186W, YBR189W, YBR191W, YBR215W, YBR219C, YBR230C, YBR255C-A, YCL012C, YCL005W-A, YCL005W-A, YCL002C, YCR028C-A, YCR031C, YCR097W, YCR097W, YDL219W, YDL191W, YDL136W, YDL130W, YDL125C, YDL115C, YDL108W, YDL083C, YDL082W, YDL079C, YDL075W, YDL064W, YDL029W, YDL012C, YDR005C, YDR025W, YDR059C, YDR064W, YDR092W, YDR129C, YDR139C, YDR305C, YDR318W, YDR367W, YDR381W, YDR381C-A, YDR397C, YDR424C, YDR424C, YDR447C, YDR450W, YDR471W, YDR500C, YDR535C, YEL076C-A, YEL012W, YEL003W, YER003C, YER007C-A, YER014C-A, YER044C-A, YER056C-A, YER074W, YER074W-A, YER074W-A, YER093C-A, YER117W, YER133W, YER179W, YFL039C, YFL034C-B, YFL034C-A, YFL031W, YFR024C-A, YFR031C-A, YFR045W, YGL251C, YGL232W, YGL226C-A, YGL183C, YGL178W, YGL137W, YGL103W, YGL087C, YGL076C, YGL076C, YGL033W, YGL033W, YGL030W, YGR001C, YGR001C, YGR029W, YGR034W, YGR118W, YGR183C, YGR214W, YGR225W, YGR296W, YHL050C, YHL001W, YHR001W-A, YHR010W, YHR012W, YHR016C, YHR021C, YHR039C-A, YHR041C, YHR076W, YHR077C, YHR079C-A, YHR097C, YHR101C, YHR123W, YHR141C, YHR199C-A, YHR203C, YHR218W, YIL177C, YIL156W-B, YIL148W, YIL133C, YIL111W, YIL106W, YIL073C, YIL069C, YIL052C, YIL018W, YIL004C, YJL225C, YJL205C, YJL191W, YJL189W, YJL177W, YJL136C, YJL041W, YJL031C, YJL024C, YJL001W, YJR021C, YJR079W, YJR094W-A, YJR112W-A, YJR145C, YKL190W, YKL180W, YKL157W, YKL156W, YKL081W, YKL006C-A, YKL006W, YKL002W, YKR004C, YKR005C, YKR057W, YKR094C, YKR095W-A, YLL067C, YLL066C, YLL050C, YLR048W, YLR054C, YLR061W, YLR078C, YLR093C, YLR128W, YLR185W, YLR199C, YLR202C, YLR211C, YLR275W, YLR287C-A, YLR306W, YLR316C, YLR316C, YLR329W, YLR344W, YLR367W, YLR406C, YLR426W, YLR445W, YLR448W, YLR464W, YML133C, YML124C, YML094W, YML085C, YML073C, YML067C, YML056C, YML036W, YML034W, YML026C, YML025C, YML024W, YML017W, YMR033W, YMR079W, YMR116C, YMR125W, YMR133W, YMR142C, YMR143W, YMR194W, YMR194C-B, YMR201C, YMR225C, YMR230W, YMR242C, YMR292W, YNL339C, YNL312W, YNL302C, YNL301C, YNL265C, YNL246W, YNL162W, YNL147W, YNL138W-A, YNL130C, YNL112W, YNL096C, YNL069C, YNL050C, YNL044W, YNL038W, YNL012W, YNL004W, YNR053C, YOL127W, YOL121C, YOL120C, YOL048C, YOL047C, YOR096W, YOR122C, YOR182C, YOR234C, YOR293W, YOR312C, YOR318C, YPL283C, YPL249C-A, YPL241C, YPL218W, YPL198W, YPL198W, YPL175W, YPL143W, YPL129W, YPL109C, YPL090C, YPL081W, YPL079W, YPL075W, YPL031C, YPR010C-A, YPR028W, YPR043W, YPR063C, YPR098C, YPR132W, YPR153W, YPR170W-B, YPR187W, YPR202W, Q0055, Q0060, Q0060, Q0065, Q0065, Q0065, Q0070, Q0070, Q0070, Q0070, Q0045, Q0045, Q0045, Q0045, Q0045, Q0045, Q0045, Q0075, Q0110, Q0115, Q0115, Q0120, Q0120, Q0120, Q0105, Q0105, Q0105, Q0105, Q0105, Q0255, Q0255\n"
     ]
    }
   ],
   "source": [
    "allGenes = []\n",
    "genesWithIntrons = []\n",
    "for parentChildren in db.iter_by_parent_childs(featuretype='mRNA'):\n",
    "    geneName = parentChildren[0].attributes['Name'][0].split('_')[0]\n",
    "    allGenes.append(geneName)\n",
    "    for child in parentChildren[1:]:\n",
    "        if child.featuretype == 'intron':\n",
    "            genesWithIntrons.append(geneName)\n",
    "\n",
    "print '{} / {} genes have introns.'.format(len(genesWithIntrons), len(allGenes))\n",
    "print\n",
    "print ', '.join(genesWithIntrons)"
   ]
  },
  {
   "cell_type": "markdown",
   "metadata": {},
   "source": [
    "#### 1e) Compute the length of every gene in the yeast genome, and output a file where the first column is gene name, and the second column is length. Warning: you have to be careful for the genes with introns! You only want the sum of the CDS lengths, and you don’t want to count the intron lengths."
   ]
  },
  {
   "cell_type": "code",
   "execution_count": 42,
   "metadata": {
    "collapsed": false
   },
   "outputs": [],
   "source": [
    "geneLengths = defaultdict(int)\n",
    "for parentChildren in db.iter_by_parent_childs(featuretype='mRNA'):\n",
    "    geneName = parentChildren[0].attributes['Name'][0].split('_')[0]\n",
    "    for child in parentChildren[1:]:\n",
    "        if child.featuretype == 'CDS':\n",
    "            geneLengths[geneName] += (child.end - child.start)+1\n",
    "\n",
    "with open('sacCer_geneLength.txt', 'w') as fh:\n",
    "    for (g,l) in geneLengths.items():\n",
    "        fh.write('{}\\t{}\\n'.format(g,l))"
   ]
  },
  {
   "cell_type": "markdown",
   "metadata": {},
   "source": [
    "## 2) Map a yeast RNAseq experiment."
   ]
  },
  {
   "cell_type": "raw",
   "metadata": {},
   "source": [
    "250000 reads; of these:\n",
    "  250000 (100.00%) were unpaired; of these:\n",
    "    227129 (90.85%) aligned 0 times\n",
    "    7789 (3.12%) aligned exactly 1 time\n",
    "    15082 (6.03%) aligned >1 times\n",
    "9.15% overall alignment rate"
   ]
  },
  {
   "cell_type": "markdown",
   "metadata": {},
   "source": [
    "## 3) Quantify expression using gffutils and pysam"
   ]
  },
  {
   "cell_type": "markdown",
   "metadata": {},
   "source": [
    "## 4) Find differential expression expression between two yeast strains."
   ]
  },
  {
   "cell_type": "markdown",
   "metadata": {},
   "source": [
    "#### 4c) Using gffutils and pysam, test for differential expression of every gene in the genome"
   ]
  },
  {
   "cell_type": "code",
   "execution_count": null,
   "metadata": {
    "collapsed": true
   },
   "outputs": [],
   "source": []
  }
 ],
 "metadata": {
  "kernelspec": {
   "display_name": "Python 2",
   "language": "python",
   "name": "python2"
  },
  "language_info": {
   "codemirror_mode": {
    "name": "ipython",
    "version": 2
   },
   "file_extension": ".py",
   "mimetype": "text/x-python",
   "name": "python",
   "nbconvert_exporter": "python",
   "pygments_lexer": "ipython2",
   "version": "2.7.6"
  },
  "widgets": {
   "state": {},
   "version": "1.1.2"
  }
 },
 "nbformat": 4,
 "nbformat_minor": 0
}
